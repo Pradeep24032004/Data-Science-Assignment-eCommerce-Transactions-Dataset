{
  "nbformat": 4,
  "nbformat_minor": 0,
  "metadata": {
    "colab": {
      "provenance": [],
      "authorship_tag": "ABX9TyO7TuX7mKhjnCBYfZw0h5Ie",
      "include_colab_link": true
    },
    "kernelspec": {
      "name": "python3",
      "display_name": "Python 3"
    },
    "language_info": {
      "name": "python"
    }
  },
  "cells": [
    {
      "cell_type": "markdown",
      "metadata": {
        "id": "view-in-github",
        "colab_type": "text"
      },
      "source": [
        "<a href=\"https://colab.research.google.com/github/Pradeep24032004/Data-Science-Assignment-eCommerce-Transactions-Dataset/blob/main/Maggala_Pradeep_Lookalike.ipynb\" target=\"_parent\"><img src=\"https://colab.research.google.com/assets/colab-badge.svg\" alt=\"Open In Colab\"/></a>"
      ]
    },
    {
      "cell_type": "code",
      "execution_count": 1,
      "metadata": {
        "id": "DeEwpzRC4eoM"
      },
      "outputs": [],
      "source": [
        "import pandas as pd\n",
        "import numpy as np\n",
        "from sklearn.preprocessing import StandardScaler, LabelEncoder\n",
        "from sklearn.metrics.pairwise import cosine_similarity"
      ]
    },
    {
      "cell_type": "code",
      "source": [
        "# Load datasets\n",
        "customers = pd.read_csv(\"Customers.csv\")\n",
        "products = pd.read_csv(\"Products.csv\")\n",
        "transactions = pd.read_csv(\"Transactions.csv\")\n"
      ],
      "metadata": {
        "id": "smXl5P9iBXRr"
      },
      "execution_count": 2,
      "outputs": []
    },
    {
      "cell_type": "code",
      "source": [
        "# Preprocessing Customers dataset\n",
        "customers['SignupDate'] = pd.to_datetime(customers['SignupDate'])\n",
        "customers['SignupYear'] = customers['SignupDate'].dt.year\n",
        "\n",
        "# Encode the 'Region' column\n",
        "label_encoder = LabelEncoder()\n",
        "customers['RegionEncoded'] = label_encoder.fit_transform(customers['Region'])"
      ],
      "metadata": {
        "id": "Kb3xSM4zCGxz"
      },
      "execution_count": 3,
      "outputs": []
    },
    {
      "cell_type": "code",
      "source": [
        "# Merge Transactions with Products\n",
        "txns_with_products = transactions.merge(products, on='ProductID', how='left')\n",
        "\n",
        "# Alternative approach: Calculate AvgPrice based on TotalValue / Quantity\n",
        "txns_with_products['CalculatedPrice'] = txns_with_products['TotalValue'] / txns_with_products['Quantity']\n",
        "txns_with_products['CalculatedPrice'].fillna(0, inplace=True)  # Handle division by zero or missing data"
      ],
      "metadata": {
        "colab": {
          "base_uri": "https://localhost:8080/"
        },
        "id": "di4HR0ptCegG",
        "outputId": "12935ccb-7742-488f-b991-b74d4eceee51"
      },
      "execution_count": 4,
      "outputs": [
        {
          "output_type": "stream",
          "name": "stderr",
          "text": [
            "<ipython-input-4-113e8b5e72e4>:6: FutureWarning: A value is trying to be set on a copy of a DataFrame or Series through chained assignment using an inplace method.\n",
            "The behavior will change in pandas 3.0. This inplace method will never work because the intermediate object on which we are setting values always behaves as a copy.\n",
            "\n",
            "For example, when doing 'df[col].method(value, inplace=True)', try using 'df.method({col: value}, inplace=True)' or df[col] = df[col].method(value) instead, to perform the operation inplace on the original object.\n",
            "\n",
            "\n",
            "  txns_with_products['CalculatedPrice'].fillna(0, inplace=True)  # Handle division by zero or missing data\n"
          ]
        }
      ]
    },
    {
      "cell_type": "code",
      "source": [
        "# Aggregate transaction data per customer\n",
        "txn_summary = txns_with_products.groupby('CustomerID').agg({\n",
        "    'TransactionID': 'count',\n",
        "    'Quantity': 'sum',\n",
        "    'TotalValue': 'sum',\n",
        "    'CalculatedPrice': 'mean',  # Use calculated price instead of missing Price\n",
        "    'Category': lambda x: x.mode()[0] if not x.mode().empty else None\n",
        "}).rename(columns={\n",
        "    'TransactionID': 'TransactionCount',\n",
        "    'CalculatedPrice': 'AvgPrice'\n",
        "}).reset_index()\n"
      ],
      "metadata": {
        "id": "_f4B9vdJCiiE"
      },
      "execution_count": 5,
      "outputs": []
    },
    {
      "cell_type": "code",
      "source": [
        "# Encode categorical columns\n",
        "txn_summary['CategoryEncoded'] = label_encoder.fit_transform(txn_summary['Category'].astype(str))\n",
        "\n",
        "# Merge Customers and Transaction Summary\n",
        "customer_data = pd.merge(customers, txn_summary, on='CustomerID', how='left')\n",
        "customer_data.fillna(0, inplace=True)\n"
      ],
      "metadata": {
        "id": "7iswazigCmHS"
      },
      "execution_count": 6,
      "outputs": []
    },
    {
      "cell_type": "code",
      "source": [
        "# Feature engineering for similarity\n",
        "def feature_engineering(df):\n",
        "    features = ['RegionEncoded', 'SignupYear', 'TransactionCount', 'Quantity', 'TotalValue', 'AvgPrice', 'CategoryEncoded']\n",
        "    return df[features]\n",
        "\n",
        "features = feature_engineering(customer_data)\n",
        "\n",
        "# Standardize features\n",
        "scaler = StandardScaler()\n",
        "features_scaled = scaler.fit_transform(features)\n",
        "\n",
        "# Compute similarity matrix\n",
        "similarity_matrix = cosine_similarity(features_scaled)"
      ],
      "metadata": {
        "id": "gAQZv9KaCo2K"
      },
      "execution_count": 7,
      "outputs": []
    },
    {
      "cell_type": "code",
      "source": [
        "# Function to find top N similar customers\n",
        "def find_top_similar(customers_df, global_customers, global_similarity_matrix, top_n=3):\n",
        "    customer_ids = customers_df['CustomerID'].values\n",
        "    global_ids = global_customers['CustomerID'].values\n",
        "\n",
        "    # Map indices from subset to global similarity matrix\n",
        "    subset_indices = [np.where(global_ids == cust_id)[0][0] for cust_id in customer_ids]\n",
        "    subset_similarity_matrix = global_similarity_matrix[subset_indices, :][:, subset_indices]\n",
        "\n",
        "    lookalike_map = {}\n",
        "    for idx, cust_id in enumerate(customer_ids):\n",
        "        sim_scores = list(enumerate(subset_similarity_matrix[idx]))\n",
        "        sim_scores = sorted(sim_scores, key=lambda x: x[1], reverse=True)\n",
        "        top_similar = [(customer_ids[i], score) for i, score in sim_scores[1:top_n + 1]]\n",
        "        lookalike_map[cust_id] = top_similar\n",
        "\n",
        "    return lookalike_map\n"
      ],
      "metadata": {
        "id": "J1iI9U8aCt9O"
      },
      "execution_count": 8,
      "outputs": []
    },
    {
      "cell_type": "code",
      "source": [
        "# Get top 3 similar customers for the first 20 customers\n",
        "customer_subset = customers[customers['CustomerID'].isin([f\"C{str(i).zfill(4)}\" for i in range(1, 21)])]\n",
        "lookalike_map = find_top_similar(customer_subset, customers, similarity_matrix)"
      ],
      "metadata": {
        "id": "-aDSTNDLCzJC"
      },
      "execution_count": 9,
      "outputs": []
    },
    {
      "cell_type": "code",
      "source": [
        "# Save Lookalike map to CSV\n",
        "lookalike_list = []\n",
        "for cust_id, similars in lookalike_map.items():\n",
        "    for similar_cust_id, score in similars:\n",
        "        lookalike_list.append({\"CustomerID\": cust_id, \"SimilarCustomerID\": similar_cust_id, \"Score\": score})\n",
        "\n",
        "lookalike_df = pd.DataFrame(lookalike_list)\n",
        "lookalike_df.to_csv(\"Lookalike.csv\", index=False)"
      ],
      "metadata": {
        "id": "_Ycv4B03C2aC"
      },
      "execution_count": 10,
      "outputs": []
    },
    {
      "cell_type": "code",
      "source": [
        "# Print top 3 similar customers for the first 20 customers\n",
        "print(lookalike_df)"
      ],
      "metadata": {
        "colab": {
          "base_uri": "https://localhost:8080/"
        },
        "id": "NewGbMprC5Y8",
        "outputId": "0fc4cdd8-ae46-4d20-d2e0-4c554947554e"
      },
      "execution_count": 11,
      "outputs": [
        {
          "output_type": "stream",
          "name": "stdout",
          "text": [
            "   CustomerID SimilarCustomerID     Score\n",
            "0       C0001             C0011  0.617869\n",
            "1       C0001             C0004  0.361737\n",
            "2       C0001             C0003  0.192198\n",
            "3       C0002             C0010  0.868055\n",
            "4       C0002             C0005  0.788503\n",
            "5       C0002             C0007  0.593362\n",
            "6       C0003             C0012  0.618847\n",
            "7       C0003             C0014  0.553283\n",
            "8       C0003             C0008  0.421682\n",
            "9       C0004             C0017  0.733299\n",
            "10      C0004             C0011  0.665745\n",
            "11      C0004             C0013  0.506975\n",
            "12      C0005             C0007  0.941816\n",
            "13      C0005             C0002  0.788503\n",
            "14      C0005             C0009  0.687967\n",
            "15      C0006             C0016  0.735793\n",
            "16      C0006             C0018  0.656978\n",
            "17      C0006             C0013  0.630326\n",
            "18      C0007             C0005  0.941816\n",
            "19      C0007             C0009  0.607235\n",
            "20      C0007             C0002  0.593362\n",
            "21      C0008             C0012  0.833466\n",
            "22      C0008             C0013  0.538361\n",
            "23      C0008             C0003  0.421682\n",
            "24      C0009             C0015  0.839611\n",
            "25      C0009             C0020  0.777598\n",
            "26      C0009             C0005  0.687967\n",
            "27      C0010             C0002  0.868055\n",
            "28      C0010             C0005  0.492134\n",
            "29      C0010             C0019  0.485957\n",
            "30      C0011             C0004  0.665745\n",
            "31      C0011             C0001  0.617869\n",
            "32      C0011             C0006  0.361352\n",
            "33      C0012             C0008  0.833466\n",
            "34      C0012             C0013  0.744419\n",
            "35      C0012             C0003  0.618847\n",
            "36      C0013             C0012  0.744419\n",
            "37      C0013             C0018  0.684194\n",
            "38      C0013             C0006  0.630326\n",
            "39      C0014             C0020  0.781462\n",
            "40      C0014             C0009  0.630523\n",
            "41      C0014             C0003  0.553283\n",
            "42      C0015             C0009  0.839611\n",
            "43      C0015             C0020  0.711885\n",
            "44      C0015             C0006  0.445459\n",
            "45      C0016             C0006  0.735793\n",
            "46      C0016             C0013  0.516625\n",
            "47      C0016             C0015  0.437792\n",
            "48      C0017             C0004  0.733299\n",
            "49      C0017             C0018  0.574180\n",
            "50      C0017             C0008  0.415233\n",
            "51      C0018             C0013  0.684194\n",
            "52      C0018             C0006  0.656978\n",
            "53      C0018             C0017  0.574180\n",
            "54      C0019             C0002  0.541468\n",
            "55      C0019             C0010  0.485957\n",
            "56      C0019             C0017  0.408326\n",
            "57      C0020             C0014  0.781462\n",
            "58      C0020             C0009  0.777598\n",
            "59      C0020             C0015  0.711885\n"
          ]
        }
      ]
    }
  ]
}